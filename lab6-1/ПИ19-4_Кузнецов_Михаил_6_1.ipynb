{
 "cells": [
  {
   "cell_type": "code",
   "execution_count": 24,
   "metadata": {},
   "outputs": [],
   "source": [
    "import numpy as np\n",
    "import matplotlib.pyplot as plt\n",
    "import seaborn as sns\n",
    "sns.set()\n",
    "import pandas as pd\n",
    "import warnings\n",
    "warnings.simplefilter(\"ignore\")\n",
    "from sklearn.metrics import r2_score,mean_squared_error, mean_absolute_error\n",
    "from sklearn.metrics import confusion_matrix\n",
    "from sklearn.metrics import accuracy_score, precision_score, recall_score, f1_score, r2_score, mean_squared_error, confusion_matrix\n",
    "from sklearn import preprocessing\n",
    "from sklearn.decomposition import PCA\n",
    "from sklearn.model_selection import train_test_split\n",
    "from sklearn.datasets import load_digits"
   ]
  },
  {
   "cell_type": "markdown",
   "metadata": {},
   "source": [
    "# Задания для выполнения\n",
    "1.\tСформируйте случайную двумерную область точек\n",
    "2.\tИспользуйте метод главных компонент для понижения размерности \n",
    "3.\tИнвертируйте данные полученные после понижения размерности и выведите их на график.\n",
    "4.\tСкачайте датасет с цифрами (load_digits)\n",
    "5.\tИспользуйте метод главных компонент для понижения размерности до 2.\n",
    "6.\tВыведите на график полученные значения.\n",
    "7.\tИспользуйте метод главных компонент с количеством компонентов – 64.\n",
    "8.\tПостройте график объяснимости модели в зависимости от компонентов.\n",
    "9.\tДобавьте шума в датасет. Выведите на экран обычные и зашумленные данные.\n",
    "10.\t Найти минимальное количество компонентов необходимое для сохранения хотя бы на 50% информации о датасете.\n",
    "11.\t Используйте метод главных компонент для понижения размерности с количеством компонент из пункта 10.\n",
    "12.\t Инвертируйте данные полученные после понижения размерности и выведите их на экран.\n",
    "13.\tСделайте вывод о применимости модели\n",
    " \n"
   ]
  },
  {
   "cell_type": "markdown",
   "metadata": {},
   "source": [
    "#### 1. Формирование двумерной области точек с ее выводом"
   ]
  },
  {
   "cell_type": "code",
   "execution_count": 5,
   "metadata": {},
   "outputs": [
    {
     "data": {
      "text/plain": [
       "(-2.7292712056271964,\n",
       " 2.5702744393352615,\n",
       " -0.9326181575178751,\n",
       " 1.004413830229183)"
      ]
     },
     "execution_count": 5,
     "metadata": {},
     "output_type": "execute_result"
    },
    {
     "data": {
      "image/png": "[encoded data removed]",
      "text/plain": [
       "<Figure size 432x288 with 1 Axes>"
      ]
     },
     "metadata": {},
     "output_type": "display_data"
    }
   ],
   "source": [
    "rng = np.random.RandomState(1)\n",
    "X = np.dot(rng.rand(2, 2), rng.randn(2,200)).T\n",
    "plt.scatter(X[:, 0], X[:, 1])\n",
    "plt.axis('equal')"
   ]
  },
  {
   "cell_type": "markdown",
   "metadata": {},
   "source": [
    "#### 2. Создаем, а также делаем обучение модели метода главных компонент с размерностью 1"
   ]
  },
  {
   "cell_type": "code",
   "execution_count": 13,
   "metadata": {},
   "outputs": [
    {
     "name": "stdout",
     "output_type": "stream",
     "text": [
      "original shape:    (200, 2)\n",
      "transformed shape: (200, 1)\n"
     ]
    },
    {
     "data": {
      "text/plain": [
       "array([[ 6.76769235e-01],\n",
       "       [-1.07121393e+00],\n",
       "       [ 7.27912364e-01],\n",
       "       [ 2.30964136e+00],\n",
       "       [ 6.30052323e-01],\n",
       "       [ 1.02448887e+00],\n",
       "       [ 7.77183507e-01],\n",
       "       [-1.39656414e+00],\n",
       "       [-2.91049874e-01],\n",
       "       [ 1.88864221e+00],\n",
       "       [-7.11544293e-01],\n",
       "       [ 6.38884130e-01],\n",
       "       [ 5.48059617e-01],\n",
       "       [-2.19312436e-01],\n",
       "       [-3.87789490e-01],\n",
       "       [ 7.15219956e-01],\n",
       "       [-1.08373816e+00],\n",
       "       [-2.99917403e-01],\n",
       "       [-7.96849021e-01],\n",
       "       [-8.12568346e-01],\n",
       "       [-1.54018281e+00],\n",
       "       [-2.52920476e-01],\n",
       "       [ 6.26464454e-01],\n",
       "       [-1.61007571e+00],\n",
       "       [ 5.04240563e-01],\n",
       "       [ 5.53935753e-01],\n",
       "       [ 6.81911252e-01],\n",
       "       [-2.00157228e-02],\n",
       "       [ 1.13550833e-01],\n",
       "       [ 2.92286085e-02],\n",
       "       [-2.14393483e-01],\n",
       "       [-1.03406124e+00],\n",
       "       [ 3.88635004e-01],\n",
       "       [ 9.96727811e-01],\n",
       "       [ 1.39223653e+00],\n",
       "       [ 4.57043694e-01],\n",
       "       [ 6.81839901e-01],\n",
       "       [-9.05233246e-01],\n",
       "       [ 4.94316334e-01],\n",
       "       [ 6.22411280e-01],\n",
       "       [ 3.26088548e-01],\n",
       "       [ 4.52560386e-01],\n",
       "       [ 6.81840663e-01],\n",
       "       [-2.44832816e-01],\n",
       "       [-5.27149562e-01],\n",
       "       [-4.51448737e-01],\n",
       "       [-1.42864453e+00],\n",
       "       [ 8.05233004e-01],\n",
       "       [ 1.81049742e-01],\n",
       "       [ 3.49039347e-01],\n",
       "       [ 2.65803583e+00],\n",
       "       [-1.34272221e+00],\n",
       "       [-1.73026340e-01],\n",
       "       [ 6.13676729e-01],\n",
       "       [-1.89940741e+00],\n",
       "       [-7.93074429e-01],\n",
       "       [-4.17072486e-01],\n",
       "       [ 1.54913526e-01],\n",
       "       [ 2.44646603e-01],\n",
       "       [ 7.26337140e-01],\n",
       "       [-7.91592424e-01],\n",
       "       [ 4.39666794e-01],\n",
       "       [-2.66630687e-01],\n",
       "       [-8.77131636e-01],\n",
       "       [-6.37447634e-01],\n",
       "       [-7.72982393e-01],\n",
       "       [-1.04616382e+00],\n",
       "       [ 1.15209837e+00],\n",
       "       [-5.26661400e-02],\n",
       "       [-9.74296354e-01],\n",
       "       [-6.24348505e-01],\n",
       "       [-1.00475074e+00],\n",
       "       [ 5.89973268e-01],\n",
       "       [ 1.50344054e+00],\n",
       "       [ 1.27433349e+00],\n",
       "       [-1.25658172e+00],\n",
       "       [ 1.37852445e-01],\n",
       "       [-1.36126475e+00],\n",
       "       [ 7.27518820e-01],\n",
       "       [ 4.50501231e-01],\n",
       "       [-1.17577071e-01],\n",
       "       [-8.49638130e-01],\n",
       "       [-9.51657336e-02],\n",
       "       [-1.81175961e-01],\n",
       "       [ 2.81596080e-01],\n",
       "       [-2.56560634e-01],\n",
       "       [ 8.52804745e-01],\n",
       "       [-4.77688980e-01],\n",
       "       [-2.96471868e-01],\n",
       "       [ 1.68108524e-03],\n",
       "       [-2.05727542e-01],\n",
       "       [ 8.12610001e-01],\n",
       "       [-7.06157363e-02],\n",
       "       [ 2.31690062e-01],\n",
       "       [-1.59605923e-01],\n",
       "       [-5.98727081e-01],\n",
       "       [ 1.01944512e+00],\n",
       "       [-7.01462226e-01],\n",
       "       [-1.40420099e+00],\n",
       "       [ 6.94997907e-01],\n",
       "       [ 5.18636606e-01],\n",
       "       [ 4.83061626e-01],\n",
       "       [ 6.79198052e-01],\n",
       "       [-1.30170017e+00],\n",
       "       [-2.71805220e-01],\n",
       "       [ 9.47603686e-01],\n",
       "       [-3.49630397e-01],\n",
       "       [ 4.85113462e-01],\n",
       "       [-3.04715098e-01],\n",
       "       [-3.31839520e-01],\n",
       "       [-1.38578436e+00],\n",
       "       [ 8.84502948e-01],\n",
       "       [-2.47084475e+00],\n",
       "       [-9.56899804e-02],\n",
       "       [-4.64806358e-01],\n",
       "       [ 7.06669625e-01],\n",
       "       [ 1.54312708e-01],\n",
       "       [ 5.45819213e-01],\n",
       "       [ 1.46023727e-01],\n",
       "       [ 9.57253276e-01],\n",
       "       [-6.91815248e-01],\n",
       "       [-1.00443516e-01],\n",
       "       [ 2.77924488e-01],\n",
       "       [-1.20207491e+00],\n",
       "       [-6.04953108e-02],\n",
       "       [-1.03273685e+00],\n",
       "       [ 6.88215760e-01],\n",
       "       [-1.21050656e+00],\n",
       "       [-2.40052449e-01],\n",
       "       [-6.06855334e-01],\n",
       "       [ 1.29217575e+00],\n",
       "       [-1.03282074e-01],\n",
       "       [-1.41361475e+00],\n",
       "       [ 7.57783205e-01],\n",
       "       [ 1.41360423e+00],\n",
       "       [ 1.99564613e+00],\n",
       "       [ 1.66865955e+00],\n",
       "       [ 1.66032125e+00],\n",
       "       [ 4.24742508e-01],\n",
       "       [-9.26445715e-01],\n",
       "       [ 3.28504629e-02],\n",
       "       [-5.17521702e-01],\n",
       "       [-9.24887775e-02],\n",
       "       [-3.05962249e-02],\n",
       "       [ 1.30795754e-01],\n",
       "       [-7.74659629e-02],\n",
       "       [-4.20826569e-01],\n",
       "       [ 6.78334448e-01],\n",
       "       [-6.35104074e-01],\n",
       "       [ 2.72075594e-01],\n",
       "       [-2.26801066e-01],\n",
       "       [-1.45908094e+00],\n",
       "       [ 4.03275391e-01],\n",
       "       [ 4.88618199e-01],\n",
       "       [-3.77797862e-02],\n",
       "       [ 2.25514691e-01],\n",
       "       [ 3.73320407e-01],\n",
       "       [ 9.96559672e-01],\n",
       "       [ 6.68655132e-01],\n",
       "       [-3.09207055e-01],\n",
       "       [ 1.44746288e+00],\n",
       "       [-1.27674147e-01],\n",
       "       [ 1.95898129e-02],\n",
       "       [-4.68331172e-01],\n",
       "       [-7.59794861e-01],\n",
       "       [ 2.11566325e+00],\n",
       "       [-1.28843614e+00],\n",
       "       [ 5.24455206e-01],\n",
       "       [ 2.68082969e-01],\n",
       "       [ 4.06271559e-02],\n",
       "       [-1.63087335e+00],\n",
       "       [ 4.50273668e-01],\n",
       "       [-1.41736985e+00],\n",
       "       [-3.20579341e-01],\n",
       "       [-2.16095416e+00],\n",
       "       [ 7.55938440e-01],\n",
       "       [ 1.13147728e+00],\n",
       "       [-4.01022769e-01],\n",
       "       [-1.33261395e-01],\n",
       "       [-1.20765775e-01],\n",
       "       [ 1.03185993e+00],\n",
       "       [-1.29878689e-01],\n",
       "       [-4.08011754e-01],\n",
       "       [ 4.17084437e-01],\n",
       "       [-1.00930809e-01],\n",
       "       [ 7.22839507e-02],\n",
       "       [ 6.47903117e-01],\n",
       "       [ 4.74689466e-01],\n",
       "       [ 6.85499472e-01],\n",
       "       [-1.49366216e+00],\n",
       "       [-3.49297457e-01],\n",
       "       [-7.79713261e-01],\n",
       "       [ 5.67446775e-01],\n",
       "       [ 5.18831382e-02],\n",
       "       [ 1.25350822e+00],\n",
       "       [-8.53016941e-01],\n",
       "       [-2.61547685e-01],\n",
       "       [-2.02667441e+00],\n",
       "       [ 1.20688282e+00],\n",
       "       [-3.53816725e-01]])"
      ]
     },
     "execution_count": 13,
     "metadata": {},
     "output_type": "execute_result"
    }
   ],
   "source": [
    "pca = PCA(n_components=1)\n",
    "pca.fit(X)\n",
    "#Понижаем размерность к X\n",
    "X_pca = pca.transform(X)\n",
    "print(\"original shape:   \", X.shape)\n",
    "print(\"transformed shape:\", X_pca.shape)\n",
    "X_pca"
   ]
  },
  {
   "cell_type": "markdown",
   "metadata": {},
   "source": [
    "#### 3. Инвертируем данные полученные после понижения размерности и выведем их на график."
   ]
  },
  {
   "cell_type": "code",
   "execution_count": 20,
   "metadata": {},
   "outputs": [
    {
     "data": {
      "text/plain": [
       "(-2.731158226766438,\n",
       " 2.6099018832593326,\n",
       " -0.9672765706389318,\n",
       " 1.0060642308539953)"
      ]
     },
     "execution_count": 20,
     "metadata": {},
     "output_type": "execute_result"
    },
    {
     "data": {
      "image/png": "[encoded data removed]",
      "text/plain": [
       "<Figure size 432x288 with 1 Axes>"
      ]
     },
     "metadata": {},
     "output_type": "display_data"
    }
   ],
   "source": [
    "X_new = pca.inverse_transform(X_pca)\n",
    "plt.scatter(X[:, 0], X[:, 1], alpha=0.2)\n",
    "plt.scatter(X_new[:, 0], X_new[:, 1], alpha=0.8)\n",
    "plt.axis('equal')"
   ]
  },
  {
   "cell_type": "markdown",
   "metadata": {},
   "source": [
    "#### 4. Загрузим датасет load_digits."
   ]
  },
  {
   "cell_type": "code",
   "execution_count": 25,
   "metadata": {},
   "outputs": [
    {
     "data": {
      "text/plain": [
       "(1797, 64)"
      ]
     },
     "execution_count": 25,
     "metadata": {},
     "output_type": "execute_result"
    }
   ],
   "source": [
    "digits = load_digits()\n",
    "digits.data.shape"
   ]
  },
  {
   "cell_type": "code",
   "execution_count": 33,
   "metadata": {},
   "outputs": [
    {
     "data": {
      "text/plain": [
       "{'data': array([[ 0.,  0.,  5., ...,  0.,  0.,  0.],\n",
       "        [ 0.,  0.,  0., ..., 10.,  0.,  0.],\n",
       "        [ 0.,  0.,  0., ..., 16.,  9.,  0.],\n",
       "        ...,\n",
       "        [ 0.,  0.,  1., ...,  6.,  0.,  0.],\n",
       "        [ 0.,  0.,  2., ..., 12.,  0.,  0.],\n",
       "        [ 0.,  0., 10., ..., 12.,  1.,  0.]]),\n",
       " 'target': array([0, 1, 2, ..., 8, 9, 8]),\n",
       " 'frame': None,\n",
       " 'feature_names': ['pixel_0_0',\n",
       "  'pixel_0_1',\n",
       "  'pixel_0_2',\n",
       "  'pixel_0_3',\n",
       "  'pixel_0_4',\n",
       "  'pixel_0_5',\n",
       "  'pixel_0_6',\n",
       "  'pixel_0_7',\n",
       "  'pixel_1_0',\n",
       "  'pixel_1_1',\n",
       "  'pixel_1_2',\n",
       "  'pixel_1_3',\n",
       "  'pixel_1_4',\n",
       "  'pixel_1_5',\n",
       "  'pixel_1_6',\n",
       "  'pixel_1_7',\n",
       "  'pixel_2_0',\n",
       "  'pixel_2_1',\n",
       "  'pixel_2_2',\n",
       "  'pixel_2_3',\n",
       "  'pixel_2_4',\n",
       "  'pixel_2_5',\n",
       "  'pixel_2_6',\n",
       "  'pixel_2_7',\n",
       "  'pixel_3_0',\n",
       "  'pixel_3_1',\n",
       "  'pixel_3_2',\n",
       "  'pixel_3_3',\n",
       "  'pixel_3_4',\n",
       "  'pixel_3_5',\n",
       "  'pixel_3_6',\n",
       "  'pixel_3_7',\n",
       "  'pixel_4_0',\n",
       "  'pixel_4_1',\n",
       "  'pixel_4_2',\n",
       "  'pixel_4_3',\n",
       "  'pixel_4_4',\n",
       "  'pixel_4_5',\n",
       "  'pixel_4_6',\n",
       "  'pixel_4_7',\n",
       "  'pixel_5_0',\n",
       "  'pixel_5_1',\n",
       "  'pixel_5_2',\n",
       "  'pixel_5_3',\n",
       "  'pixel_5_4',\n",
       "  'pixel_5_5',\n",
       "  'pixel_5_6',\n",
       "  'pixel_5_7',\n",
       "  'pixel_6_0',\n",
       "  'pixel_6_1',\n",
       "  'pixel_6_2',\n",
       "  'pixel_6_3',\n",
       "  'pixel_6_4',\n",
       "  'pixel_6_5',\n",
       "  'pixel_6_6',\n",
       "  'pixel_6_7',\n",
       "  'pixel_7_0',\n",
       "  'pixel_7_1',\n",
       "  'pixel_7_2',\n",
       "  'pixel_7_3',\n",
       "  'pixel_7_4',\n",
       "  'pixel_7_5',\n",
       "  'pixel_7_6',\n",
       "  'pixel_7_7'],\n",
       " 'target_names': array([0, 1, 2, 3, 4, 5, 6, 7, 8, 9]),\n",
       " 'images': array([[[ 0.,  0.,  5., ...,  1.,  0.,  0.],\n",
       "         [ 0.,  0., 13., ..., 15.,  5.,  0.],\n",
       "         [ 0.,  3., 15., ..., 11.,  8.,  0.],\n",
       "         ...,\n",
       "         [ 0.,  4., 11., ..., 12.,  7.,  0.],\n",
       "         [ 0.,  2., 14., ..., 12.,  0.,  0.],\n",
       "         [ 0.,  0.,  6., ...,  0.,  0.,  0.]],\n",
       " \n",
       "        [[ 0.,  0.,  0., ...,  5.,  0.,  0.],\n",
       "         [ 0.,  0.,  0., ...,  9.,  0.,  0.],\n",
       "         [ 0.,  0.,  3., ...,  6.,  0.,  0.],\n",
       "         ...,\n",
       "         [ 0.,  0.,  1., ...,  6.,  0.,  0.],\n",
       "         [ 0.,  0.,  1., ...,  6.,  0.,  0.],\n",
       "         [ 0.,  0.,  0., ..., 10.,  0.,  0.]],\n",
       " \n",
       "        [[ 0.,  0.,  0., ..., 12.,  0.,  0.],\n",
       "         [ 0.,  0.,  3., ..., 14.,  0.,  0.],\n",
       "         [ 0.,  0.,  8., ..., 16.,  0.,  0.],\n",
       "         ...,\n",
       "         [ 0.,  9., 16., ...,  0.,  0.,  0.],\n",
       "         [ 0.,  3., 13., ..., 11.,  5.,  0.],\n",
       "         [ 0.,  0.,  0., ..., 16.,  9.,  0.]],\n",
       " \n",
       "        ...,\n",
       " \n",
       "        [[ 0.,  0.,  1., ...,  1.,  0.,  0.],\n",
       "         [ 0.,  0., 13., ...,  2.,  1.,  0.],\n",
       "         [ 0.,  0., 16., ..., 16.,  5.,  0.],\n",
       "         ...,\n",
       "         [ 0.,  0., 16., ..., 15.,  0.,  0.],\n",
       "         [ 0.,  0., 15., ..., 16.,  0.,  0.],\n",
       "         [ 0.,  0.,  2., ...,  6.,  0.,  0.]],\n",
       " \n",
       "        [[ 0.,  0.,  2., ...,  0.,  0.,  0.],\n",
       "         [ 0.,  0., 14., ..., 15.,  1.,  0.],\n",
       "         [ 0.,  4., 16., ..., 16.,  7.,  0.],\n",
       "         ...,\n",
       "         [ 0.,  0.,  0., ..., 16.,  2.,  0.],\n",
       "         [ 0.,  0.,  4., ..., 16.,  2.,  0.],\n",
       "         [ 0.,  0.,  5., ..., 12.,  0.,  0.]],\n",
       " \n",
       "        [[ 0.,  0., 10., ...,  1.,  0.,  0.],\n",
       "         [ 0.,  2., 16., ...,  1.,  0.,  0.],\n",
       "         [ 0.,  0., 15., ..., 15.,  0.,  0.],\n",
       "         ...,\n",
       "         [ 0.,  4., 16., ..., 16.,  6.,  0.],\n",
       "         [ 0.,  8., 16., ..., 16.,  8.,  0.],\n",
       "         [ 0.,  1.,  8., ..., 12.,  1.,  0.]]]),\n",
       " 'DESCR': \".. _digits_dataset:\\n\\nOptical recognition of handwritten digits dataset\\n--------------------------------------------------\\n\\n**Data Set Characteristics:**\\n\\n    :Number of Instances: 5620\\n    :Number of Attributes: 64\\n    :Attribute Information: 8x8 image of integer pixels in the range 0..16.\\n    :Missing Attribute Values: None\\n    :Creator: E. Alpaydin (alpaydin '@' boun.edu.tr)\\n    :Date: July; 1998\\n\\nThis is a copy of the test set of the UCI ML hand-written digits datasets\\nhttps://archive.ics.uci.edu/ml/datasets/Optical+Recognition+of+Handwritten+Digits\\n\\nThe data set contains images of hand-written digits: 10 classes where\\neach class refers to a digit.\\n\\nPreprocessing programs made available by NIST were used to extract\\nnormalized bitmaps of handwritten digits from a preprinted form. From a\\ntotal of 43 people, 30 contributed to the training set and different 13\\nto the test set. 32x32 bitmaps are divided into nonoverlapping blocks of\\n4x4 and the number of on pixels are counted in each block. This generates\\nan input matrix of 8x8 where each element is an integer in the range\\n0..16. This reduces dimensionality and gives invariance to small\\ndistortions.\\n\\nFor info on NIST preprocessing routines, see M. D. Garris, J. L. Blue, G.\\nT. Candela, D. L. Dimmick, J. Geist, P. J. Grother, S. A. Janet, and C.\\nL. Wilson, NIST Form-Based Handprint Recognition System, NISTIR 5469,\\n1994.\\n\\n.. topic:: References\\n\\n  - C. Kaynak (1995) Methods of Combining Multiple Classifiers and Their\\n    Applications to Handwritten Digit Recognition, MSc Thesis, Institute of\\n    Graduate Studies in Science and Engineering, Bogazici University.\\n  - E. Alpaydin, C. Kaynak (1998) Cascading Classifiers, Kybernetika.\\n  - Ken Tang and Ponnuthurai N. Suganthan and Xi Yao and A. Kai Qin.\\n    Linear dimensionalityreduction using relevance weighted LDA. School of\\n    Electrical and Electronic Engineering Nanyang Technological University.\\n    2005.\\n  - Claudio Gentile. A New Approximate Maximal Margin Classification\\n    Algorithm. NIPS. 2000.\"}"
      ]
     },
     "execution_count": 33,
     "metadata": {},
     "output_type": "execute_result"
    }
   ],
   "source": [
    "digits"
   ]
  },
  {
   "cell_type": "markdown",
   "metadata": {},
   "source": [
    "#### 5. Используйте метод главных компонент для понижения размерности до 2."
   ]
  },
  {
   "cell_type": "code",
   "execution_count": 38,
   "metadata": {},
   "outputs": [
    {
     "name": "stdout",
     "output_type": "stream",
     "text": [
      "original shape:    (1797, 64)\n",
      "transformed shape: (1797, 2)\n"
     ]
    },
    {
     "data": {
      "text/plain": [
       "array([[ -1.25946647,  21.27488351],\n",
       "       [  7.95761122, -20.76869867],\n",
       "       [  6.99192306,  -9.95598661],\n",
       "       ...,\n",
       "       [ 10.80128372,  -6.96025224],\n",
       "       [ -4.87210017,  12.42395342],\n",
       "       [ -0.34438956,   6.36554894]])"
      ]
     },
     "execution_count": 38,
     "metadata": {},
     "output_type": "execute_result"
    }
   ],
   "source": [
    "X = digits.data\n",
    "pca = PCA(n_components=2)\n",
    "pca.fit(X)\n",
    "X_pca = pca.transform(X)\n",
    "print(\"original shape:   \", X.shape)\n",
    "print(\"transformed shape:\", X_pca.shape)\n",
    "X_pca"
   ]
  },
  {
   "cell_type": "markdown",
   "metadata": {},
   "source": [
    "#### 6.\tВыведите на график полученные значения"
   ]
  },
  {
   "cell_type": "code",
   "execution_count": 41,
   "metadata": {},
   "outputs": [
    {
     "data": {
      "text/plain": [
       "(-34.31340559548452,\n",
       " 34.843626870044716,\n",
       " -30.373780058463385,\n",
       " 32.97153782937612)"
      ]
     },
     "execution_count": 41,
     "metadata": {},
     "output_type": "execute_result"
    },
    {
     "data": {
      "image/png": "[encoded data removed]",
      "text/plain": [
       "<Figure size 432x288 with 1 Axes>"
      ]
     },
     "metadata": {},
     "output_type": "display_data"
    }
   ],
   "source": [
    "plt.scatter(X[:, 0], X[:, 1], alpha=0.2)\n",
    "plt.scatter(X_pca[:, 0], X_pca[:, 1], alpha=0.8)\n",
    "plt.axis('equal')"
   ]
  },
  {
   "cell_type": "markdown",
   "metadata": {},
   "source": [
    "#### 7. Используйте метод главных компонент с количеством компонентов – 64."
   ]
  },
  {
   "cell_type": "code",
   "execution_count": 42,
   "metadata": {},
   "outputs": [
    {
     "name": "stdout",
     "output_type": "stream",
     "text": [
      "original shape:    (1797, 64)\n",
      "transformed shape: (1797, 64)\n"
     ]
    },
    {
     "data": {
      "text/plain": [
       "array([[-1.25946645e+00,  2.12748835e+01, -9.46305462e+00, ...,\n",
       "        -6.11367202e-30,  1.25724707e-30, -6.91392699e-16],\n",
       "       [ 7.95761130e+00, -2.07686990e+01,  4.43950604e+00, ...,\n",
       "         1.17121568e-15,  3.61608615e-16,  1.67046393e-16],\n",
       "       [ 6.99192297e+00, -9.95598641e+00,  2.95855808e+00, ...,\n",
       "        -8.77648186e-16,  3.83598436e-16,  1.16654252e-16],\n",
       "       ...,\n",
       "       [ 1.08012837e+01, -6.96025223e+00,  5.59955453e+00, ...,\n",
       "        -7.51184340e-16, -9.63380210e-16,  9.70809841e-17],\n",
       "       [-4.87210009e+00,  1.24239536e+01, -1.01708664e+01, ...,\n",
       "        -1.13722424e-16,  4.60182757e-16, -1.23762878e-16],\n",
       "       [-3.44389631e-01,  6.36554919e+00,  1.07737085e+01, ...,\n",
       "        -9.09301354e-16,  1.45165476e-15,  2.70670966e-16]])"
      ]
     },
     "execution_count": 42,
     "metadata": {},
     "output_type": "execute_result"
    }
   ],
   "source": [
    "X = digits.data\n",
    "pca = PCA(n_components=64)\n",
    "pca.fit(X)\n",
    "X_pca = pca.transform(X)\n",
    "print(\"original shape:   \", X.shape)\n",
    "print(\"transformed shape:\", X_pca.shape)\n",
    "X_pca"
   ]
  },
  {
   "cell_type": "markdown",
   "metadata": {},
   "source": [
    "#### 8. Постройте график объяснимости модели в зависимости от компонентов."
   ]
  },
  {
   "cell_type": "code",
   "execution_count": 59,
   "metadata": {},
   "outputs": [
    {
     "data": {
      "text/plain": [
       "Text(0, 0.5, 'Cumulative explained variance')"
      ]
     },
     "execution_count": 59,
     "metadata": {},
     "output_type": "execute_result"
    },
    {
     "data": {
      "image/png": "[encoded data removed]",
      "text/plain": [
       "<Figure size 432x288 with 1 Axes>"
      ]
     },
     "metadata": {},
     "output_type": "display_data"
    }
   ],
   "source": [
    "plt.plot(np.cumsum(pca.explained_variance_ratio_))\n",
    "plt.xlabel('Number of components')\n",
    "plt.ylabel('Cumulative explained variance')"
   ]
  },
  {
   "cell_type": "markdown",
   "metadata": {},
   "source": [
    "#### 9.\tДобавьте шума в датасет. Выведите на экран обычные и зашумленные данные."
   ]
  },
  {
   "cell_type": "markdown",
   "metadata": {},
   "source": [
    "#### Вывести на экран данные"
   ]
  },
  {
   "cell_type": "code",
   "execution_count": 61,
   "metadata": {},
   "outputs": [
    {
     "data": {
      "image/png": "[encoded data removed]",
      "text/plain": [
       "<Figure size 720x288 with 40 Axes>"
      ]
     },
     "metadata": {},
     "output_type": "display_data"
    }
   ],
   "source": [
    "def plot_digits(data):\n",
    "    fig, axes = plt.subplots(4, 10, figsize=(10, 4),\n",
    "                             subplot_kw={'xticks':[], 'yticks':[]},\n",
    "                             gridspec_kw=dict(hspace=0.1, wspace=0.1))\n",
    "    for i, ax in enumerate(axes.flat):\n",
    "        ax.imshow(data[i].reshape(8, 8),\n",
    "                  cmap='binary', interpolation='nearest',\n",
    "                  clim=(0, 16))\n",
    "plot_digits(digits.data)"
   ]
  },
  {
   "cell_type": "markdown",
   "metadata": {},
   "source": [
    "#### Добавить шума в датасет"
   ]
  },
  {
   "cell_type": "code",
   "execution_count": 63,
   "metadata": {},
   "outputs": [
    {
     "data": {
      "image/png": "[encoded data removed]",
      "text/plain": [
       "<Figure size 720x288 with 40 Axes>"
      ]
     },
     "metadata": {},
     "output_type": "display_data"
    }
   ],
   "source": [
    "np.random.seed(42)\n",
    "noisy = np.random.normal(digits.data, 4)\n",
    "plot_digits(noisy)"
   ]
  },
  {
   "cell_type": "code",
   "execution_count": 67,
   "metadata": {},
   "outputs": [
    {
     "data": {
      "text/plain": [
       "array([[ 1.98685661, -0.5530572 ,  7.59075415, ..., -0.74263591,\n",
       "        -4.4253399 , -4.7848265 ],\n",
       "       [ 3.25010329,  5.42496011, -0.28804049, ..., 18.7618225 ,\n",
       "        -3.9621453 , -2.26519092],\n",
       "       [ 0.39860546, -2.01390262, -6.20265372, ...,  9.9406111 ,\n",
       "         7.21394019,  3.42559518],\n",
       "       ...,\n",
       "       [-0.27421367,  1.02016505,  2.02107934, ..., -2.43039494,\n",
       "         0.41158359, -3.05111873],\n",
       "       [-1.41837966,  5.38259737,  5.63353997, ...,  8.24648231,\n",
       "         6.78527979, -1.43448215],\n",
       "       [ 0.93153787, 11.71265852, 17.3765841 , ..., 18.11407767,\n",
       "        -3.96518878,  4.47022123]])"
      ]
     },
     "execution_count": 67,
     "metadata": {},
     "output_type": "execute_result"
    }
   ],
   "source": [
    "noisy"
   ]
  },
  {
   "cell_type": "markdown",
   "metadata": {},
   "source": [
    "#### 10. Найти минимальное количество компонентов необходимое для сохранения хотя бы на 50% информации о датасете."
   ]
  },
  {
   "cell_type": "markdown",
   "metadata": {},
   "source": [
    "При вводе n_compoments от 0-1 ,будет не число компонентов, а процентное соотношение для сохранения датасета"
   ]
  },
  {
   "cell_type": "code",
   "execution_count": 72,
   "metadata": {},
   "outputs": [
    {
     "name": "stdout",
     "output_type": "stream",
     "text": [
      "Original shape:    (1797, 64)\n",
      "Transformed shape: (1797, 12)\n"
     ]
    },
    {
     "data": {
      "text/plain": [
       "array([[ -9.82613291,  19.60311879,  -3.49445446, ...,   7.26107832,\n",
       "          0.58419145,   1.8438046 ],\n",
       "       [ 14.65827166, -15.58079811,  11.61685625, ...,   5.96816258,\n",
       "          1.69008628,  -7.38319027],\n",
       "       [  5.30646513, -14.73205492,   0.26421735, ...,  -4.26313868,\n",
       "         -2.47186264,  -7.46461662],\n",
       "       ...,\n",
       "       [  7.71966027,  -6.95777476,  -6.08565658, ..., -10.8659198 ,\n",
       "          5.73479747,   5.54420925],\n",
       "       [ -8.91737494,  11.35437432, -11.91713483, ..., -11.08482921,\n",
       "          3.23292014,   0.46439398],\n",
       "       [ -6.88599972,   3.56177468,  14.54014659, ..., -12.42281561,\n",
       "          0.88588017,  10.20443299]])"
      ]
     },
     "execution_count": 72,
     "metadata": {},
     "output_type": "execute_result"
    }
   ],
   "source": [
    "pca = PCA(0.5)\n",
    "pca.fit(noisy)\n",
    "X_pca = pca.transform(noisy)\n",
    "print(\"Original shape:   \", X.shape)\n",
    "print(\"Transformed shape:\", X_pca.shape)\n",
    "X_pca"
   ]
  },
  {
   "cell_type": "markdown",
   "metadata": {},
   "source": [
    "#### График объяснимости модели в зависимости от компонентов."
   ]
  },
  {
   "cell_type": "code",
   "execution_count": 74,
   "metadata": {},
   "outputs": [
    {
     "data": {
      "text/plain": [
       "Text(0, 0.5, 'Cumulative explained variance')"
      ]
     },
     "execution_count": 74,
     "metadata": {},
     "output_type": "execute_result"
    },
    {
     "data": {
      "image/png": "[encoded data removed]",
      "text/plain": [
       "<Figure size 432x288 with 1 Axes>"
      ]
     },
     "metadata": {},
     "output_type": "display_data"
    }
   ],
   "source": [
    "plt.plot(np.cumsum(pca.explained_variance_ratio_))\n",
    "plt.xlabel('Number of components')\n",
    "plt.ylabel('Cumulative explained variance')"
   ]
  },
  {
   "cell_type": "markdown",
   "metadata": {},
   "source": [
    "Для того, чтобы сохранить 50% информации о датасете, то минимальным количеством компонентов будет 12."
   ]
  },
  {
   "cell_type": "markdown",
   "metadata": {},
   "source": [
    "#### Доля информации (доля от общей дисперсии)\n",
    "\n",
    "Содержит коэффициенты дисперсии для каждого основного компонента."
   ]
  },
  {
   "cell_type": "code",
   "execution_count": 75,
   "metadata": {},
   "outputs": [
    {
     "data": {
      "text/plain": [
       "array([0.08846308, 0.0810677 , 0.07152046, 0.05162958, 0.03897967,\n",
       "       0.03443116, 0.03089886, 0.02832579, 0.02607449, 0.0239026 ,\n",
       "       0.02011339, 0.01948981])"
      ]
     },
     "execution_count": 75,
     "metadata": {},
     "output_type": "execute_result"
    }
   ],
   "source": [
    "pca.explained_variance_ratio_"
   ]
  },
  {
   "cell_type": "markdown",
   "metadata": {},
   "source": [
    "#### 11. Используйте метод главных компонент для понижения размерности с количеством компонент из пункта 10."
   ]
  },
  {
   "cell_type": "code",
   "execution_count": 91,
   "metadata": {},
   "outputs": [
    {
     "name": "stdout",
     "output_type": "stream",
     "text": [
      "Original shape:    (1797, 64)\n",
      "Transformed shape: (1797, 12)\n"
     ]
    },
    {
     "data": {
      "text/plain": [
       "array([[ -9.82617088,  19.60327887,  -3.49417438, ...,   6.93514264,\n",
       "          0.91204104,   2.27504051],\n",
       "       [ 14.65839501, -15.58073383,  11.61670305, ...,   6.11715009,\n",
       "          0.50192738,  -7.08784953],\n",
       "       [  5.30614003, -14.73136096,   0.26431905, ...,  -4.4272884 ,\n",
       "         -2.71916064,  -7.73098746],\n",
       "       ...,\n",
       "       [  7.71969871,  -6.95774606,  -6.08595142, ..., -10.77145384,\n",
       "          7.14305617,   4.11349856],\n",
       "       [ -8.91734913,  11.3545061 , -11.91703773, ..., -11.06159964,\n",
       "          3.29004125,  -0.11174242],\n",
       "       [ -6.88591697,   3.56145161,  14.54012218, ..., -12.37268567,\n",
       "          2.22133725,  10.12256638]])"
      ]
     },
     "execution_count": 91,
     "metadata": {},
     "output_type": "execute_result"
    }
   ],
   "source": [
    "pca = PCA(12)\n",
    "pca.fit(noisy)\n",
    "X_pca = pca.transform(noisy)\n",
    "print(\"Original shape:   \", X.shape)\n",
    "print(\"Transformed shape:\", X_pca.shape)\n",
    "X_pca"
   ]
  },
  {
   "cell_type": "markdown",
   "metadata": {},
   "source": [
    "#### 12. Инвертируйте данные полученные после понижения размерности и выведите их на экран."
   ]
  },
  {
   "cell_type": "markdown",
   "metadata": {},
   "source": [
    "Инвертируем данные полученные после понижения размерности и выведем их на график.\n"
   ]
  },
  {
   "cell_type": "code",
   "execution_count": 92,
   "metadata": {},
   "outputs": [
    {
     "data": {
      "image/png": "[encoded data removed]",
      "text/plain": [
       "<Figure size 720x288 with 40 Axes>"
      ]
     },
     "metadata": {},
     "output_type": "display_data"
    }
   ],
   "source": [
    "X_new = pca.inverse_transform(X_pca)\n",
    "plot_digits(X_new)"
   ]
  },
  {
   "cell_type": "markdown",
   "metadata": {},
   "source": [
    "#### 13.\tСделайте вывод о применимости модели"
   ]
  },
  {
   "cell_type": "markdown",
   "metadata": {},
   "source": [
    "#### Вывод:  Мы почти избавились от шумов при количестве компонентов равных 12. После того, как мы понизили размерность - убрали шумы ненужные нам, то после инвертации данных, на выходе будет уже более приемлемые картинки."
   ]
  }
 ],
 "metadata": {
  "kernelspec": {
   "display_name": "Python 3",
   "language": "python",
   "name": "python3"
  },
  "language_info": {
   "codemirror_mode": {
    "name": "ipython",
    "version": 3
   },
   "file_extension": ".py",
   "mimetype": "text/x-python",
   "name": "python",
   "nbconvert_exporter": "python",
   "pygments_lexer": "ipython3",
   "version": "3.8.5"
  }
 },
 "nbformat": 4,
 "nbformat_minor": 4
}
