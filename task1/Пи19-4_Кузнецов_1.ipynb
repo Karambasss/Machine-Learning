{
 "cells": [
  {
   "cell_type": "code",
   "execution_count": 178,
   "metadata": {},
   "outputs": [],
   "source": [
    "import pandas as pd\n",
    "import numpy as np"
   ]
  },
  {
   "cell_type": "markdown",
   "metadata": {},
   "source": [
    "### Открываем файл экселя\n"
   ]
  },
  {
   "cell_type": "code",
   "execution_count": 179,
   "metadata": {},
   "outputs": [],
   "source": [
    "data = pd.read_excel(r'C:\\Users\\mpapa\\MACHINELEARNING\\seminar1\\data\\Вариант 2.xlsx', header = 2)"
   ]
  },
  {
   "cell_type": "markdown",
   "metadata": {},
   "source": [
    "### Отображаем первые 5 элементов"
   ]
  },
  {
   "cell_type": "code",
   "execution_count": 180,
   "metadata": {},
   "outputs": [
    {
     "data": {
      "text/html": [
       "<div>\n",
       "<style scoped>\n",
       "    .dataframe tbody tr th:only-of-type {\n",
       "        vertical-align: middle;\n",
       "    }\n",
       "\n",
       "    .dataframe tbody tr th {\n",
       "        vertical-align: top;\n",
       "    }\n",
       "\n",
       "    .dataframe thead th {\n",
       "        text-align: right;\n",
       "    }\n",
       "</style>\n",
       "<table border=\"1\" class=\"dataframe\">\n",
       "  <thead>\n",
       "    <tr style=\"text-align: right;\">\n",
       "      <th></th>\n",
       "      <th>№</th>\n",
       "      <th>№ школы</th>\n",
       "      <th>Класс</th>\n",
       "      <th>Пол</th>\n",
       "      <th>Номер варианта</th>\n",
       "      <th>Задания с кратким ответом</th>\n",
       "      <th>Задания с развёрнутым ответом</th>\n",
       "      <th>Устная часть</th>\n",
       "      <th>Первичный балл</th>\n",
       "      <th>Балл</th>\n",
       "      <th>Минимальный балл</th>\n",
       "    </tr>\n",
       "  </thead>\n",
       "  <tbody>\n",
       "    <tr>\n",
       "      <th>0</th>\n",
       "      <td>1.0</td>\n",
       "      <td>124.0</td>\n",
       "      <td>11</td>\n",
       "      <td>Ж</td>\n",
       "      <td>341.0</td>\n",
       "      <td>------+-----</td>\n",
       "      <td>0(2)0(2)0(2)0(3)0(3)0(4)0(4)</td>\n",
       "      <td>NaN</td>\n",
       "      <td>1.0</td>\n",
       "      <td>5.0</td>\n",
       "      <td>27.0</td>\n",
       "    </tr>\n",
       "    <tr>\n",
       "      <th>1</th>\n",
       "      <td>2.0</td>\n",
       "      <td>128.0</td>\n",
       "      <td>11</td>\n",
       "      <td>Ж</td>\n",
       "      <td>345.0</td>\n",
       "      <td>-+----------</td>\n",
       "      <td>0(2)0(2)0(2)0(3)0(3)0(4)0(4)</td>\n",
       "      <td>NaN</td>\n",
       "      <td>1.0</td>\n",
       "      <td>5.0</td>\n",
       "      <td>27.0</td>\n",
       "    </tr>\n",
       "    <tr>\n",
       "      <th>2</th>\n",
       "      <td>3.0</td>\n",
       "      <td>132.0</td>\n",
       "      <td>11</td>\n",
       "      <td>Ж</td>\n",
       "      <td>340.0</td>\n",
       "      <td>-+----------</td>\n",
       "      <td>0(2)0(2)0(2)0(3)0(3)0(4)0(4)</td>\n",
       "      <td>NaN</td>\n",
       "      <td>1.0</td>\n",
       "      <td>5.0</td>\n",
       "      <td>27.0</td>\n",
       "    </tr>\n",
       "    <tr>\n",
       "      <th>3</th>\n",
       "      <td>4.0</td>\n",
       "      <td>134.0</td>\n",
       "      <td>11</td>\n",
       "      <td>Ж</td>\n",
       "      <td>339.0</td>\n",
       "      <td>-+----------</td>\n",
       "      <td>0(2)0(2)0(2)0(3)0(3)0(4)0(4)</td>\n",
       "      <td>NaN</td>\n",
       "      <td>1.0</td>\n",
       "      <td>5.0</td>\n",
       "      <td>27.0</td>\n",
       "    </tr>\n",
       "    <tr>\n",
       "      <th>4</th>\n",
       "      <td>5.0</td>\n",
       "      <td>136.0</td>\n",
       "      <td>11</td>\n",
       "      <td>Ж</td>\n",
       "      <td>348.0</td>\n",
       "      <td>--------+---</td>\n",
       "      <td>0(2)0(2)0(2)0(3)0(3)0(4)0(4)</td>\n",
       "      <td>NaN</td>\n",
       "      <td>1.0</td>\n",
       "      <td>5.0</td>\n",
       "      <td>27.0</td>\n",
       "    </tr>\n",
       "  </tbody>\n",
       "</table>\n",
       "</div>"
      ],
      "text/plain": [
       "     №  № школы Класс Пол  Номер варианта Задания с кратким ответом  \\\n",
       "0  1.0    124.0    11   Ж           341.0              ------+-----   \n",
       "1  2.0    128.0    11   Ж           345.0              -+----------   \n",
       "2  3.0    132.0    11   Ж           340.0              -+----------   \n",
       "3  4.0    134.0    11   Ж           339.0              -+----------   \n",
       "4  5.0    136.0    11   Ж           348.0              --------+---   \n",
       "\n",
       "  Задания с развёрнутым ответом Устная часть  Первичный балл  Балл  \\\n",
       "0  0(2)0(2)0(2)0(3)0(3)0(4)0(4)          NaN             1.0   5.0   \n",
       "1  0(2)0(2)0(2)0(3)0(3)0(4)0(4)          NaN             1.0   5.0   \n",
       "2  0(2)0(2)0(2)0(3)0(3)0(4)0(4)          NaN             1.0   5.0   \n",
       "3  0(2)0(2)0(2)0(3)0(3)0(4)0(4)          NaN             1.0   5.0   \n",
       "4  0(2)0(2)0(2)0(3)0(3)0(4)0(4)          NaN             1.0   5.0   \n",
       "\n",
       "   Минимальный балл  \n",
       "0              27.0  \n",
       "1              27.0  \n",
       "2              27.0  \n",
       "3              27.0  \n",
       "4              27.0  "
      ]
     },
     "execution_count": 180,
     "metadata": {},
     "output_type": "execute_result"
    }
   ],
   "source": [
    "data.head()"
   ]
  },
  {
   "cell_type": "markdown",
   "metadata": {},
   "source": [
    "### Перебрасываем данные в массив нумпи"
   ]
  },
  {
   "cell_type": "code",
   "execution_count": 181,
   "metadata": {},
   "outputs": [],
   "source": [
    "np_data = data.to_numpy()[:-1]"
   ]
  },
  {
   "cell_type": "code",
   "execution_count": 182,
   "metadata": {},
   "outputs": [
    {
     "data": {
      "text/plain": [
       "array([[1.0, 124.0, 11, ..., 1.0, 5.0, 27.0],\n",
       "       [2.0, 128.0, 11, ..., 1.0, 5.0, 27.0],\n",
       "       [3.0, 132.0, 11, ..., 1.0, 5.0, 27.0],\n",
       "       ...,\n",
       "       [2354.0, 136.0, 11, ..., 27.0, 96.0, 27.0],\n",
       "       [2355.0, 136.0, 11, ..., 27.0, 96.0, 27.0],\n",
       "       [2356.0, 136.0, 11, ..., 27.0, 96.0, 27.0]], dtype=object)"
      ]
     },
     "execution_count": 182,
     "metadata": {},
     "output_type": "execute_result"
    }
   ],
   "source": [
    "np_data"
   ]
  },
  {
   "cell_type": "markdown",
   "metadata": {},
   "source": [
    "### Показываем кол-во измерений, размер измерений, элементов"
   ]
  },
  {
   "cell_type": "code",
   "execution_count": 183,
   "metadata": {},
   "outputs": [
    {
     "name": "stdout",
     "output_type": "stream",
     "text": [
      "Кол-во измерений:  2\n"
     ]
    }
   ],
   "source": [
    "print(\"Кол-во измерений: \", np_data.ndim)"
   ]
  },
  {
   "cell_type": "code",
   "execution_count": 184,
   "metadata": {
    "scrolled": true
   },
   "outputs": [
    {
     "name": "stdout",
     "output_type": "stream",
     "text": [
      "Размер измерений:  (2356, 11)\n"
     ]
    }
   ],
   "source": [
    "print(\"Размер измерений: \", np_data.shape)"
   ]
  },
  {
   "cell_type": "code",
   "execution_count": 185,
   "metadata": {},
   "outputs": [
    {
     "name": "stdout",
     "output_type": "stream",
     "text": [
      "Количество элементов:  25916\n"
     ]
    }
   ],
   "source": [
    "print(\"Количество элементов: \", np_data.size)"
   ]
  },
  {
   "cell_type": "markdown",
   "metadata": {},
   "source": [
    "### Показываем среднее, медиану, минимум, максимум"
   ]
  },
  {
   "cell_type": "code",
   "execution_count": 186,
   "metadata": {},
   "outputs": [],
   "source": [
    "mean_points = np.mean(np_data[:,9])"
   ]
  },
  {
   "cell_type": "code",
   "execution_count": 187,
   "metadata": {},
   "outputs": [
    {
     "data": {
      "text/plain": [
       "49.25509337860781"
      ]
     },
     "execution_count": 187,
     "metadata": {},
     "output_type": "execute_result"
    }
   ],
   "source": [
    "mean_points"
   ]
  },
  {
   "cell_type": "code",
   "execution_count": 188,
   "metadata": {},
   "outputs": [],
   "source": [
    "median = np.median(np_data[:,9])"
   ]
  },
  {
   "cell_type": "code",
   "execution_count": 189,
   "metadata": {},
   "outputs": [
    {
     "data": {
      "text/plain": [
       "50.0"
      ]
     },
     "execution_count": 189,
     "metadata": {},
     "output_type": "execute_result"
    }
   ],
   "source": [
    "median"
   ]
  },
  {
   "cell_type": "code",
   "execution_count": 190,
   "metadata": {},
   "outputs": [],
   "source": [
    "minimum = np.min(np_data[:,9])"
   ]
  },
  {
   "cell_type": "code",
   "execution_count": 191,
   "metadata": {},
   "outputs": [
    {
     "data": {
      "text/plain": [
       "5.0"
      ]
     },
     "execution_count": 191,
     "metadata": {},
     "output_type": "execute_result"
    }
   ],
   "source": [
    "minimum"
   ]
  },
  {
   "cell_type": "code",
   "execution_count": 192,
   "metadata": {},
   "outputs": [],
   "source": [
    "maximum = np.max(np_data[:,9])"
   ]
  },
  {
   "cell_type": "code",
   "execution_count": 193,
   "metadata": {},
   "outputs": [
    {
     "data": {
      "text/plain": [
       "96.0"
      ]
     },
     "execution_count": 193,
     "metadata": {},
     "output_type": "execute_result"
    }
   ],
   "source": [
    "maximum"
   ]
  },
  {
   "cell_type": "markdown",
   "metadata": {},
   "source": [
    "### Показываем процент тех, чьи баллы = 27 и больше "
   ]
  },
  {
   "cell_type": "code",
   "execution_count": 194,
   "metadata": {},
   "outputs": [],
   "source": [
    "a = np_data[np_data[:,9] >= 27]"
   ]
  },
  {
   "cell_type": "code",
   "execution_count": 195,
   "metadata": {},
   "outputs": [
    {
     "data": {
      "text/plain": [
       "90.78947368421053"
      ]
     },
     "execution_count": 195,
     "metadata": {},
     "output_type": "execute_result"
    }
   ],
   "source": [
    "a.shape[0]/np_data.shape[0] *100"
   ]
  },
  {
   "cell_type": "markdown",
   "metadata": {},
   "source": [
    "### График показывает отношение кол-ва баллов >= 27 на остальное кол-во (<27)\n"
   ]
  },
  {
   "cell_type": "code",
   "execution_count": 202,
   "metadata": {},
   "outputs": [],
   "source": [
    "import matplotlib.pyplot as plt"
   ]
  },
  {
   "cell_type": "code",
   "execution_count": 201,
   "metadata": {},
   "outputs": [
    {
     "data": {
      "image/png": "[encoded data removed]",
      "text/plain": [
       "<Figure size 432x288 with 1 Axes>"
      ]
     },
     "metadata": {},
     "output_type": "display_data"
    }
   ],
   "source": [
    "x = a.shape[0]/np_data.shape[0]*100\n",
    "sizes = [x, 100-x]\n",
    "figl, ax1 = plt.subplots()\n",
    "ax1.pie(sizes)\n",
    "ax1.axis('equal')\n",
    "plt.show()"
   ]
  },
  {
   "cell_type": "markdown",
   "metadata": {},
   "source": [
    "### График показывает по баллам (если < 27, то не сдал, >= 27, то сдал)"
   ]
  },
  {
   "cell_type": "code",
   "execution_count": 205,
   "metadata": {},
   "outputs": [
    {
     "data": {
      "text/plain": [
       "(-1.1084260229057996,\n",
       " 1.1506045828607878,\n",
       " -1.1068718550211485,\n",
       " 1.1073794658767886)"
      ]
     },
     "execution_count": 205,
     "metadata": {},
     "output_type": "execute_result"
    },
    {
     "data": {
      "image/png": "[encoded data removed]",
      "text/plain": [
       "<Figure size 432x288 with 1 Axes>"
      ]
     },
     "metadata": {},
     "output_type": "display_data"
    }
   ],
   "source": [
    "labels = \"Сдал\", \"Не сдал\"\n",
    "explode = (0, 0.05)\n",
    "figl, axl = plt.subplots()\n",
    "axl.pie(sizes, explode = explode, labels = labels, shadow = True)\n",
    "axl.axis('equal')"
   ]
  },
  {
   "cell_type": "markdown",
   "metadata": {},
   "source": [
    "### Показываем гистограмму баллов"
   ]
  },
  {
   "cell_type": "code",
   "execution_count": 24,
   "metadata": {},
   "outputs": [
    {
     "data": {
      "text/plain": [
       "(array([ 55., 162., 154., 496., 520., 193., 326., 366.,  71.,  13.]),\n",
       " array([5.0, 14.1, 23.2, 32.3, 41.4, 50.5, 59.599999999999994,\n",
       "        68.69999999999999, 77.8, 86.89999999999999, 96.0], dtype=object),\n",
       " <BarContainer object of 10 artists>)"
      ]
     },
     "execution_count": 24,
     "metadata": {},
     "output_type": "execute_result"
    },
    {
     "data": {
      "image/png": "[encoded data removed]",
      "text/plain": [
       "<Figure size 432x288 with 1 Axes>"
      ]
     },
     "metadata": {
      "needs_background": "light"
     },
     "output_type": "display_data"
    }
   ],
   "source": [
    "plt.hist(np_data[:,9])"
   ]
  },
  {
   "cell_type": "markdown",
   "metadata": {},
   "source": [
    "### График оценки плотности баллов"
   ]
  },
  {
   "cell_type": "code",
   "execution_count": 25,
   "metadata": {},
   "outputs": [],
   "source": [
    "from sklearn.neighbors import KernelDensity\n",
    "import scipy"
   ]
  },
  {
   "cell_type": "code",
   "execution_count": 26,
   "metadata": {},
   "outputs": [
    {
     "data": {
      "text/plain": [
       "[<matplotlib.patches.Polygon at 0x1f931bf1d90>]"
      ]
     },
     "execution_count": 26,
     "metadata": {},
     "output_type": "execute_result"
    },
    {
     "data": {
      "image/png": "[encoded data removed]",
      "text/plain": [
       "<Figure size 432x288 with 1 Axes>"
      ]
     },
     "metadata": {
      "needs_background": "light"
     },
     "output_type": "display_data"
    }
   ],
   "source": [
    "kde = KernelDensity(kernel = \"gaussian\", bandwidth=1).fit(np_data[:,9].reshape(-1,1))\n",
    "x = np.linspace(0,100,15)[:, np.newaxis]\n",
    "a = kde.score_samples(x)\n",
    "plt.fill(x, np.exp(a))"
   ]
  },
  {
   "cell_type": "code",
   "execution_count": 27,
   "metadata": {},
   "outputs": [],
   "source": [
    "a = np_data[np_data[:,9] < 27].shape[0]"
   ]
  },
  {
   "cell_type": "markdown",
   "metadata": {},
   "source": [
    "### Показываем процент неудовлетворительных, удовлетворительных оценок, оценок хорошо и отлично"
   ]
  },
  {
   "cell_type": "code",
   "execution_count": 28,
   "metadata": {},
   "outputs": [
    {
     "name": "stdout",
     "output_type": "stream",
     "text": [
      "Процент оценок неудовлетворительно:  9.210526315789473\n"
     ]
    }
   ],
   "source": [
    "b = np_data[(27 <= np_data[:,9]) & (np_data[:,9] < 50)].shape[0]\n",
    "c = np_data[(50 <= np_data[:,9]) & (np_data[:,9] < 75)].shape[0]\n",
    "d = np_data[np_data[:,9] >= 75].shape[0]\n",
    "total = np_data.shape[0]\n",
    "print(\"Процент оценок неудовлетворительно: \", a/total*100)"
   ]
  },
  {
   "cell_type": "code",
   "execution_count": 29,
   "metadata": {},
   "outputs": [
    {
     "name": "stdout",
     "output_type": "stream",
     "text": [
      "Процент оценок удовлетворительно:  38.79456706281834\n"
     ]
    }
   ],
   "source": [
    "print(\"Процент оценок удовлетворительно: \", b/total*100)"
   ]
  },
  {
   "cell_type": "code",
   "execution_count": 30,
   "metadata": {},
   "outputs": [
    {
     "name": "stdout",
     "output_type": "stream",
     "text": [
      "Процент оценок хорошо 46.26485568760611\n"
     ]
    }
   ],
   "source": [
    "print(\"Процент оценок хорошо\", c/total*100)"
   ]
  },
  {
   "cell_type": "code",
   "execution_count": 31,
   "metadata": {},
   "outputs": [
    {
     "name": "stdout",
     "output_type": "stream",
     "text": [
      "Процент оценок отлично:  5.730050933786078\n"
     ]
    }
   ],
   "source": [
    "print(\"Процент оценок отлично: \", d/total*100)"
   ]
  },
  {
   "cell_type": "markdown",
   "metadata": {},
   "source": [
    "### Количество мужчин"
   ]
  },
  {
   "cell_type": "code",
   "execution_count": 32,
   "metadata": {},
   "outputs": [],
   "source": [
    "M = np_data[np_data[:,3] == \"М\"].shape[0]\n"
   ]
  },
  {
   "cell_type": "code",
   "execution_count": 33,
   "metadata": {},
   "outputs": [
    {
     "data": {
      "text/plain": [
       "1111"
      ]
     },
     "execution_count": 33,
     "metadata": {},
     "output_type": "execute_result"
    }
   ],
   "source": [
    "M"
   ]
  },
  {
   "cell_type": "markdown",
   "metadata": {},
   "source": [
    "### Количество женщин"
   ]
  },
  {
   "cell_type": "code",
   "execution_count": 34,
   "metadata": {},
   "outputs": [
    {
     "data": {
      "text/plain": [
       "1245"
      ]
     },
     "execution_count": 34,
     "metadata": {},
     "output_type": "execute_result"
    }
   ],
   "source": [
    "G = np_data[np_data[:,3] == \"Ж\"].shape[0]\n",
    "G"
   ]
  },
  {
   "cell_type": "markdown",
   "metadata": {},
   "source": [
    "### График отношения кол-ва мужчин на женщин"
   ]
  },
  {
   "cell_type": "code",
   "execution_count": 35,
   "metadata": {},
   "outputs": [
    {
     "data": {
      "image/png": "[encoded data removed]",
      "text/plain": [
       "<Figure size 432x288 with 1 Axes>"
      ]
     },
     "metadata": {},
     "output_type": "display_data"
    }
   ],
   "source": [
    "sizes = (M,G)\n",
    "labels = \"М\", \"Ж\"\n",
    "explode = (0,0.05)\n",
    "fig1, ax = plt.subplots()\n",
    "ax.pie(sizes, explode = explode, labels = labels)\n",
    "ax.axis(\"equal\")\n",
    "plt.show()"
   ]
  },
  {
   "cell_type": "markdown",
   "metadata": {},
   "source": [
    "### Кол-во школ "
   ]
  },
  {
   "cell_type": "code",
   "execution_count": 36,
   "metadata": {},
   "outputs": [
    {
     "data": {
      "text/plain": [
       "17"
      ]
     },
     "execution_count": 36,
     "metadata": {},
     "output_type": "execute_result"
    }
   ],
   "source": [
    "np.unique(np_data[:,1]).shape[0]"
   ]
  },
  {
   "cell_type": "markdown",
   "metadata": {},
   "source": [
    "### Сами школы"
   ]
  },
  {
   "cell_type": "code",
   "execution_count": 37,
   "metadata": {},
   "outputs": [
    {
     "data": {
      "text/plain": [
       "{121.0,\n",
       " 122.0,\n",
       " 123.0,\n",
       " 124.0,\n",
       " 125.0,\n",
       " 126.0,\n",
       " 127.0,\n",
       " 128.0,\n",
       " 129.0,\n",
       " 130.0,\n",
       " 131.0,\n",
       " 132.0,\n",
       " 133.0,\n",
       " 134.0,\n",
       " 135.0,\n",
       " 136.0,\n",
       " 137.0}"
      ]
     },
     "execution_count": 37,
     "metadata": {},
     "output_type": "execute_result"
    }
   ],
   "source": [
    "set(np_data[:,1])"
   ]
  },
  {
   "cell_type": "code",
   "execution_count": 38,
   "metadata": {
    "scrolled": true
   },
   "outputs": [
    {
     "name": "stdout",
     "output_type": "stream",
     "text": [
      "Кол-во школ:  17\n"
     ]
    }
   ],
   "source": [
    "print(\"Кол-во школ: \", np.unique(np_data[:,1]).shape[0])"
   ]
  },
  {
   "cell_type": "markdown",
   "metadata": {},
   "source": [
    "# Домашнее задание\n",
    "Вывести количество выполненных заданий типа B для каждого ученика.\n",
    "<br>\n",
    "Вывести среднее число выполненных заданий типа B\n",
    "<br>\n",
    "Вывести средний балл для юношей и для девушек\n",
    "<br>\n",
    "Добавить строковые комментарии (в виде строковых ячеек для всех функций)"
   ]
  },
  {
   "cell_type": "markdown",
   "metadata": {},
   "source": [
    "Вывести количество выполненных заданий типа B для каждого ученика"
   ]
  },
  {
   "cell_type": "code",
   "execution_count": 171,
   "metadata": {},
   "outputs": [
    {
     "data": {
      "text/plain": [
       "(2356,)"
      ]
     },
     "execution_count": 171,
     "metadata": {},
     "output_type": "execute_result"
    }
   ],
   "source": [
    "task_b = np.array([x[2] for x in np_data[:,5]]) #генератор списка для нахождения задания типа B для каждого ученика\n",
    "task_b.shape #размер массива - кол-во заданий типа B для всех учеников"
   ]
  },
  {
   "cell_type": "markdown",
   "metadata": {},
   "source": [
    "### Получаем информацию о каждом ученике, правильно ли он решил задание типа B"
   ]
  },
  {
   "cell_type": "code",
   "execution_count": 172,
   "metadata": {},
   "outputs": [
    {
     "data": {
      "text/plain": [
       "array(['-', '-', '-', ..., '+', '+', '+'], dtype='<U1')"
      ]
     },
     "execution_count": 172,
     "metadata": {},
     "output_type": "execute_result"
    }
   ],
   "source": [
    "task_b "
   ]
  },
  {
   "cell_type": "markdown",
   "metadata": {},
   "source": [
    "### Ученики, которые правильно решили задание типа B"
   ]
  },
  {
   "cell_type": "code",
   "execution_count": 128,
   "metadata": {},
   "outputs": [
    {
     "data": {
      "text/plain": [
       "(2186,)"
      ]
     },
     "execution_count": 128,
     "metadata": {},
     "output_type": "execute_result"
    }
   ],
   "source": [
    "student_right_task_b = task_b[task_b[:] == \"+\"] #проверяем, что содержимое массива имеет +, то есть, выполнено задание типа B\n",
    "student_right_task_b.shape #кол-во выполненных заданий"
   ]
  },
  {
   "cell_type": "code",
   "execution_count": 129,
   "metadata": {},
   "outputs": [
    {
     "data": {
      "text/plain": [
       "array(['+', '+', '+', ..., '+', '+', '+'], dtype='<U1')"
      ]
     },
     "execution_count": 129,
     "metadata": {},
     "output_type": "execute_result"
    }
   ],
   "source": [
    "student_right_task_b "
   ]
  },
  {
   "cell_type": "markdown",
   "metadata": {},
   "source": [
    "### Ученики, которые неправильно решили задание типа B"
   ]
  },
  {
   "cell_type": "code",
   "execution_count": 130,
   "metadata": {},
   "outputs": [
    {
     "data": {
      "text/plain": [
       "(170,)"
      ]
     },
     "execution_count": 130,
     "metadata": {},
     "output_type": "execute_result"
    }
   ],
   "source": [
    "student_false_task_b = task_b[task_b[:] == \"-\"] #проверяем, что содержимое массива имеет -, то есть, не выполнено задание типа B\n",
    "student_false_task_b.shape #кол-во невыполненных заданий"
   ]
  },
  {
   "cell_type": "code",
   "execution_count": 131,
   "metadata": {},
   "outputs": [
    {
     "data": {
      "text/plain": [
       "array(['-', '-', '-', '-', '-', '-', '-', '-', '-', '-', '-', '-', '-',\n",
       "       '-', '-', '-', '-', '-', '-', '-', '-', '-', '-', '-', '-', '-',\n",
       "       '-', '-', '-', '-', '-', '-', '-', '-', '-', '-', '-', '-', '-',\n",
       "       '-', '-', '-', '-', '-', '-', '-', '-', '-', '-', '-', '-', '-',\n",
       "       '-', '-', '-', '-', '-', '-', '-', '-', '-', '-', '-', '-', '-',\n",
       "       '-', '-', '-', '-', '-', '-', '-', '-', '-', '-', '-', '-', '-',\n",
       "       '-', '-', '-', '-', '-', '-', '-', '-', '-', '-', '-', '-', '-',\n",
       "       '-', '-', '-', '-', '-', '-', '-', '-', '-', '-', '-', '-', '-',\n",
       "       '-', '-', '-', '-', '-', '-', '-', '-', '-', '-', '-', '-', '-',\n",
       "       '-', '-', '-', '-', '-', '-', '-', '-', '-', '-', '-', '-', '-',\n",
       "       '-', '-', '-', '-', '-', '-', '-', '-', '-', '-', '-', '-', '-',\n",
       "       '-', '-', '-', '-', '-', '-', '-', '-', '-', '-', '-', '-', '-',\n",
       "       '-', '-', '-', '-', '-', '-', '-', '-', '-', '-', '-', '-', '-',\n",
       "       '-'], dtype='<U1')"
      ]
     },
     "execution_count": 131,
     "metadata": {},
     "output_type": "execute_result"
    }
   ],
   "source": [
    "student_false_task_b "
   ]
  },
  {
   "cell_type": "markdown",
   "metadata": {},
   "source": [
    "### Вывести среднее число выполненных заданий типа B"
   ]
  },
  {
   "cell_type": "code",
   "execution_count": 132,
   "metadata": {},
   "outputs": [
    {
     "data": {
      "text/plain": [
       "92.78438030560272"
      ]
     },
     "execution_count": 132,
     "metadata": {},
     "output_type": "execute_result"
    }
   ],
   "source": [
    "sr_zhach_student_right_task_b = (student_right_task_b.shape[0]/task_b.shape[0])*100 #среднее число в (%) для выполненных заданий типа B\n",
    "sr_zhach_student_right_task_b"
   ]
  },
  {
   "cell_type": "markdown",
   "metadata": {},
   "source": [
    "### Вывести средний балл для юношей и для девушек "
   ]
  },
  {
   "cell_type": "code",
   "execution_count": 143,
   "metadata": {},
   "outputs": [],
   "source": [
    "data = data[:-1] #убираем последнюю строку - так как она NAN"
   ]
  },
  {
   "cell_type": "code",
   "execution_count": 144,
   "metadata": {},
   "outputs": [
    {
     "data": {
      "text/html": [
       "<div>\n",
       "<style scoped>\n",
       "    .dataframe tbody tr th:only-of-type {\n",
       "        vertical-align: middle;\n",
       "    }\n",
       "\n",
       "    .dataframe tbody tr th {\n",
       "        vertical-align: top;\n",
       "    }\n",
       "\n",
       "    .dataframe thead th {\n",
       "        text-align: right;\n",
       "    }\n",
       "</style>\n",
       "<table border=\"1\" class=\"dataframe\">\n",
       "  <thead>\n",
       "    <tr style=\"text-align: right;\">\n",
       "      <th></th>\n",
       "      <th>№</th>\n",
       "      <th>№ школы</th>\n",
       "      <th>Класс</th>\n",
       "      <th>Пол</th>\n",
       "      <th>Номер варианта</th>\n",
       "      <th>Задания с кратким ответом</th>\n",
       "      <th>Задания с развёрнутым ответом</th>\n",
       "      <th>Устная часть</th>\n",
       "      <th>Первичный балл</th>\n",
       "      <th>Балл</th>\n",
       "      <th>Минимальный балл</th>\n",
       "    </tr>\n",
       "  </thead>\n",
       "  <tbody>\n",
       "    <tr>\n",
       "      <th>0</th>\n",
       "      <td>1.0</td>\n",
       "      <td>124.0</td>\n",
       "      <td>11</td>\n",
       "      <td>Ж</td>\n",
       "      <td>341.0</td>\n",
       "      <td>------+-----</td>\n",
       "      <td>0(2)0(2)0(2)0(3)0(3)0(4)0(4)</td>\n",
       "      <td>NaN</td>\n",
       "      <td>1.0</td>\n",
       "      <td>5.0</td>\n",
       "      <td>27.0</td>\n",
       "    </tr>\n",
       "    <tr>\n",
       "      <th>1</th>\n",
       "      <td>2.0</td>\n",
       "      <td>128.0</td>\n",
       "      <td>11</td>\n",
       "      <td>Ж</td>\n",
       "      <td>345.0</td>\n",
       "      <td>-+----------</td>\n",
       "      <td>0(2)0(2)0(2)0(3)0(3)0(4)0(4)</td>\n",
       "      <td>NaN</td>\n",
       "      <td>1.0</td>\n",
       "      <td>5.0</td>\n",
       "      <td>27.0</td>\n",
       "    </tr>\n",
       "    <tr>\n",
       "      <th>2</th>\n",
       "      <td>3.0</td>\n",
       "      <td>132.0</td>\n",
       "      <td>11</td>\n",
       "      <td>Ж</td>\n",
       "      <td>340.0</td>\n",
       "      <td>-+----------</td>\n",
       "      <td>0(2)0(2)0(2)0(3)0(3)0(4)0(4)</td>\n",
       "      <td>NaN</td>\n",
       "      <td>1.0</td>\n",
       "      <td>5.0</td>\n",
       "      <td>27.0</td>\n",
       "    </tr>\n",
       "    <tr>\n",
       "      <th>3</th>\n",
       "      <td>4.0</td>\n",
       "      <td>134.0</td>\n",
       "      <td>11</td>\n",
       "      <td>Ж</td>\n",
       "      <td>339.0</td>\n",
       "      <td>-+----------</td>\n",
       "      <td>0(2)0(2)0(2)0(3)0(3)0(4)0(4)</td>\n",
       "      <td>NaN</td>\n",
       "      <td>1.0</td>\n",
       "      <td>5.0</td>\n",
       "      <td>27.0</td>\n",
       "    </tr>\n",
       "    <tr>\n",
       "      <th>4</th>\n",
       "      <td>5.0</td>\n",
       "      <td>136.0</td>\n",
       "      <td>11</td>\n",
       "      <td>Ж</td>\n",
       "      <td>348.0</td>\n",
       "      <td>--------+---</td>\n",
       "      <td>0(2)0(2)0(2)0(3)0(3)0(4)0(4)</td>\n",
       "      <td>NaN</td>\n",
       "      <td>1.0</td>\n",
       "      <td>5.0</td>\n",
       "      <td>27.0</td>\n",
       "    </tr>\n",
       "    <tr>\n",
       "      <th>...</th>\n",
       "      <td>...</td>\n",
       "      <td>...</td>\n",
       "      <td>...</td>\n",
       "      <td>...</td>\n",
       "      <td>...</td>\n",
       "      <td>...</td>\n",
       "      <td>...</td>\n",
       "      <td>...</td>\n",
       "      <td>...</td>\n",
       "      <td>...</td>\n",
       "      <td>...</td>\n",
       "    </tr>\n",
       "    <tr>\n",
       "      <th>2351</th>\n",
       "      <td>2352.0</td>\n",
       "      <td>136.0</td>\n",
       "      <td>11</td>\n",
       "      <td>М</td>\n",
       "      <td>337.0</td>\n",
       "      <td>++++++++++++</td>\n",
       "      <td>2(2)2(2)2(2)3(3)3(3)0(4)1(4)</td>\n",
       "      <td>NaN</td>\n",
       "      <td>25.0</td>\n",
       "      <td>92.0</td>\n",
       "      <td>27.0</td>\n",
       "    </tr>\n",
       "    <tr>\n",
       "      <th>2352</th>\n",
       "      <td>2353.0</td>\n",
       "      <td>136.0</td>\n",
       "      <td>11</td>\n",
       "      <td>М</td>\n",
       "      <td>341.0</td>\n",
       "      <td>++-+++++++++</td>\n",
       "      <td>2(2)2(2)1(2)2(3)2(3)4(4)1(4)</td>\n",
       "      <td>NaN</td>\n",
       "      <td>25.0</td>\n",
       "      <td>92.0</td>\n",
       "      <td>27.0</td>\n",
       "    </tr>\n",
       "    <tr>\n",
       "      <th>2353</th>\n",
       "      <td>2354.0</td>\n",
       "      <td>136.0</td>\n",
       "      <td>11</td>\n",
       "      <td>М</td>\n",
       "      <td>341.0</td>\n",
       "      <td>++++++++++++</td>\n",
       "      <td>2(2)1(2)2(2)1(3)3(3)4(4)2(4)</td>\n",
       "      <td>NaN</td>\n",
       "      <td>27.0</td>\n",
       "      <td>96.0</td>\n",
       "      <td>27.0</td>\n",
       "    </tr>\n",
       "    <tr>\n",
       "      <th>2354</th>\n",
       "      <td>2355.0</td>\n",
       "      <td>136.0</td>\n",
       "      <td>11</td>\n",
       "      <td>М</td>\n",
       "      <td>343.0</td>\n",
       "      <td>++++++++++++</td>\n",
       "      <td>2(2)2(2)2(2)0(3)3(3)4(4)2(4)</td>\n",
       "      <td>NaN</td>\n",
       "      <td>27.0</td>\n",
       "      <td>96.0</td>\n",
       "      <td>27.0</td>\n",
       "    </tr>\n",
       "    <tr>\n",
       "      <th>2355</th>\n",
       "      <td>2356.0</td>\n",
       "      <td>136.0</td>\n",
       "      <td>11</td>\n",
       "      <td>Ж</td>\n",
       "      <td>337.0</td>\n",
       "      <td>++++++++++++</td>\n",
       "      <td>2(2)2(2)2(2)0(3)3(3)4(4)2(4)</td>\n",
       "      <td>NaN</td>\n",
       "      <td>27.0</td>\n",
       "      <td>96.0</td>\n",
       "      <td>27.0</td>\n",
       "    </tr>\n",
       "  </tbody>\n",
       "</table>\n",
       "<p>2356 rows × 11 columns</p>\n",
       "</div>"
      ],
      "text/plain": [
       "           №  № школы Класс Пол  Номер варианта Задания с кратким ответом  \\\n",
       "0        1.0    124.0    11   Ж           341.0              ------+-----   \n",
       "1        2.0    128.0    11   Ж           345.0              -+----------   \n",
       "2        3.0    132.0    11   Ж           340.0              -+----------   \n",
       "3        4.0    134.0    11   Ж           339.0              -+----------   \n",
       "4        5.0    136.0    11   Ж           348.0              --------+---   \n",
       "...      ...      ...   ...  ..             ...                       ...   \n",
       "2351  2352.0    136.0    11   М           337.0              ++++++++++++   \n",
       "2352  2353.0    136.0    11   М           341.0              ++-+++++++++   \n",
       "2353  2354.0    136.0    11   М           341.0              ++++++++++++   \n",
       "2354  2355.0    136.0    11   М           343.0              ++++++++++++   \n",
       "2355  2356.0    136.0    11   Ж           337.0              ++++++++++++   \n",
       "\n",
       "     Задания с развёрнутым ответом Устная часть  Первичный балл  Балл  \\\n",
       "0     0(2)0(2)0(2)0(3)0(3)0(4)0(4)          NaN             1.0   5.0   \n",
       "1     0(2)0(2)0(2)0(3)0(3)0(4)0(4)          NaN             1.0   5.0   \n",
       "2     0(2)0(2)0(2)0(3)0(3)0(4)0(4)          NaN             1.0   5.0   \n",
       "3     0(2)0(2)0(2)0(3)0(3)0(4)0(4)          NaN             1.0   5.0   \n",
       "4     0(2)0(2)0(2)0(3)0(3)0(4)0(4)          NaN             1.0   5.0   \n",
       "...                            ...          ...             ...   ...   \n",
       "2351  2(2)2(2)2(2)3(3)3(3)0(4)1(4)          NaN            25.0  92.0   \n",
       "2352  2(2)2(2)1(2)2(3)2(3)4(4)1(4)          NaN            25.0  92.0   \n",
       "2353  2(2)1(2)2(2)1(3)3(3)4(4)2(4)          NaN            27.0  96.0   \n",
       "2354  2(2)2(2)2(2)0(3)3(3)4(4)2(4)          NaN            27.0  96.0   \n",
       "2355  2(2)2(2)2(2)0(3)3(3)4(4)2(4)          NaN            27.0  96.0   \n",
       "\n",
       "      Минимальный балл  \n",
       "0                 27.0  \n",
       "1                 27.0  \n",
       "2                 27.0  \n",
       "3                 27.0  \n",
       "4                 27.0  \n",
       "...                ...  \n",
       "2351              27.0  \n",
       "2352              27.0  \n",
       "2353              27.0  \n",
       "2354              27.0  \n",
       "2355              27.0  \n",
       "\n",
       "[2356 rows x 11 columns]"
      ]
     },
     "execution_count": 144,
     "metadata": {},
     "output_type": "execute_result"
    }
   ],
   "source": [
    "data"
   ]
  },
  {
   "cell_type": "markdown",
   "metadata": {},
   "source": [
    "### Вывести средний балл для юношей и для девушек ( менее красивый вывод)"
   ]
  },
  {
   "cell_type": "code",
   "execution_count": 168,
   "metadata": {},
   "outputs": [
    {
     "data": {
      "text/html": [
       "<div>\n",
       "<style scoped>\n",
       "    .dataframe tbody tr th:only-of-type {\n",
       "        vertical-align: middle;\n",
       "    }\n",
       "\n",
       "    .dataframe tbody tr th {\n",
       "        vertical-align: top;\n",
       "    }\n",
       "\n",
       "    .dataframe thead th {\n",
       "        text-align: right;\n",
       "    }\n",
       "</style>\n",
       "<table border=\"1\" class=\"dataframe\">\n",
       "  <thead>\n",
       "    <tr style=\"text-align: right;\">\n",
       "      <th></th>\n",
       "      <th>№</th>\n",
       "      <th>№ школы</th>\n",
       "      <th>Номер варианта</th>\n",
       "      <th>Первичный балл</th>\n",
       "      <th>Балл</th>\n",
       "      <th>Минимальный балл</th>\n",
       "    </tr>\n",
       "    <tr>\n",
       "      <th>Пол</th>\n",
       "      <th></th>\n",
       "      <th></th>\n",
       "      <th></th>\n",
       "      <th></th>\n",
       "      <th></th>\n",
       "      <th></th>\n",
       "    </tr>\n",
       "  </thead>\n",
       "  <tbody>\n",
       "    <tr>\n",
       "      <th>Ж</th>\n",
       "      <td>1156.903614</td>\n",
       "      <td>131.793574</td>\n",
       "      <td>341.093976</td>\n",
       "      <td>9.975904</td>\n",
       "      <td>48.719679</td>\n",
       "      <td>27.0</td>\n",
       "    </tr>\n",
       "    <tr>\n",
       "      <th>М</th>\n",
       "      <td>1202.701170</td>\n",
       "      <td>132.243024</td>\n",
       "      <td>335.113411</td>\n",
       "      <td>10.289829</td>\n",
       "      <td>49.855086</td>\n",
       "      <td>27.0</td>\n",
       "    </tr>\n",
       "  </tbody>\n",
       "</table>\n",
       "</div>"
      ],
      "text/plain": [
       "               №     № школы  Номер варианта  Первичный балл       Балл  \\\n",
       "Пол                                                                       \n",
       "Ж    1156.903614  131.793574      341.093976        9.975904  48.719679   \n",
       "М    1202.701170  132.243024      335.113411       10.289829  49.855086   \n",
       "\n",
       "     Минимальный балл  \n",
       "Пол                    \n",
       "Ж                27.0  \n",
       "М                27.0  "
      ]
     },
     "execution_count": 168,
     "metadata": {},
     "output_type": "execute_result"
    }
   ],
   "source": [
    "my_grouped_list = data.groupby(\"Пол\").mean() #делаем группировку по полу, и выводим среднее для 6 столбцов.\n",
    "my_grouped_list"
   ]
  },
  {
   "cell_type": "code",
   "execution_count": 169,
   "metadata": {},
   "outputs": [
    {
     "data": {
      "text/plain": [
       "Пол\n",
       "Ж    48.719679\n",
       "М    49.855086\n",
       "Name: Балл, dtype: float64"
      ]
     },
     "execution_count": 169,
     "metadata": {},
     "output_type": "execute_result"
    }
   ],
   "source": [
    "my_grouped_list['Балл'] #обращаемся к среднему значению столбца Балл"
   ]
  },
  {
   "cell_type": "markdown",
   "metadata": {},
   "source": [
    "### Более красивый вывод"
   ]
  },
  {
   "cell_type": "code",
   "execution_count": 170,
   "metadata": {},
   "outputs": [
    {
     "data": {
      "text/html": [
       "<div>\n",
       "<style scoped>\n",
       "    .dataframe tbody tr th:only-of-type {\n",
       "        vertical-align: middle;\n",
       "    }\n",
       "\n",
       "    .dataframe tbody tr th {\n",
       "        vertical-align: top;\n",
       "    }\n",
       "\n",
       "    .dataframe thead th {\n",
       "        text-align: right;\n",
       "    }\n",
       "</style>\n",
       "<table border=\"1\" class=\"dataframe\">\n",
       "  <thead>\n",
       "    <tr style=\"text-align: right;\">\n",
       "      <th></th>\n",
       "      <th>Балл</th>\n",
       "    </tr>\n",
       "    <tr>\n",
       "      <th>Пол</th>\n",
       "      <th></th>\n",
       "    </tr>\n",
       "  </thead>\n",
       "  <tbody>\n",
       "    <tr>\n",
       "      <th>М</th>\n",
       "      <td>49.855086</td>\n",
       "    </tr>\n",
       "    <tr>\n",
       "      <th>Ж</th>\n",
       "      <td>48.719679</td>\n",
       "    </tr>\n",
       "  </tbody>\n",
       "</table>\n",
       "</div>"
      ],
      "text/plain": [
       "          Балл\n",
       "Пол           \n",
       "М    49.855086\n",
       "Ж    48.719679"
      ]
     },
     "execution_count": 170,
     "metadata": {},
     "output_type": "execute_result"
    }
   ],
   "source": [
    "data[[\"Балл\", \"Пол\"]].groupby(\"Пол\").mean().sort_values(\"Балл\", ascending = False) # делаем группировку по полу и находим среднее для столбца Балл, а так же сортируем по убыванию столбец Балл"
   ]
  }
 ],
 "metadata": {
  "kernelspec": {
   "display_name": "Python 3",
   "language": "python",
   "name": "python3"
  },
  "language_info": {
   "codemirror_mode": {
    "name": "ipython",
    "version": 3
   },
   "file_extension": ".py",
   "mimetype": "text/x-python",
   "name": "python",
   "nbconvert_exporter": "python",
   "pygments_lexer": "ipython3",
   "version": "3.8.5"
  }
 },
 "nbformat": 4,
 "nbformat_minor": 4
}
